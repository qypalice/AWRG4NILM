{
 "cells": [
  {
   "cell_type": "code",
   "execution_count": 1,
   "id": "ebfbe787",
   "metadata": {},
   "outputs": [
    {
     "name": "stdout",
     "output_type": "stream",
     "text": [
      "set seed\n"
     ]
    },
    {
     "name": "stderr",
     "output_type": "stream",
     "text": [
      "C:\\Users\\qypal\\anaconda3\\envs\\pytorch_GPU\\lib\\_collections_abc.py:832: MatplotlibDeprecationWarning: Support for setting the 'text.latex.preamble' or 'pgf.preamble' rcParam to a list of strings is deprecated since 3.3 and will be removed two minor releases later; set it to a single string instead.\n",
      "  self[key] = other[key]\n"
     ]
    }
   ],
   "source": [
    "import sys\n",
    "sys.path.append('../src/')\n",
    "from train import *"
   ]
  },
  {
   "cell_type": "markdown",
   "id": "a76bc963",
   "metadata": {},
   "source": [
    "## Test dataset.py"
   ]
  },
  {
   "cell_type": "code",
   "execution_count": 12,
   "id": "1df3da77",
   "metadata": {},
   "outputs": [
    {
     "name": "stderr",
     "output_type": "stream",
     "text": [
      "\r",
      "0it [00:00, ?it/s]"
     ]
    },
    {
     "name": "stdout",
     "output_type": "stream",
     "text": [
      "Load lilac aggregated data from ../data/lilac/aggregated/\n"
     ]
    },
    {
     "name": "stderr",
     "output_type": "stream",
     "text": [
      "processed: 1324: : 1324it [08:17,  2.66it/s]"
     ]
    },
    {
     "name": "stdout",
     "output_type": "stream",
     "text": [
      "Load LILAC data successfully.\n"
     ]
    },
    {
     "name": "stderr",
     "output_type": "stream",
     "text": [
      "\n"
     ]
    }
   ],
   "source": [
    "dataset=\"lilac\"\n",
    "current, voltage, labels = get_data(submetered=False, data_type=dataset, isc=False)\n",
    "labels = get_correct_labels_lilac(labels)\n",
    "\n",
    "#perform label enconding\n",
    "le = LabelEncoder()\n",
    "le.fit(labels)\n",
    "y = le.transform(labels)\n",
    "\n",
    "skf = StratifiedKFold(n_splits=4,random_state=42,shuffle=True)\n",
    "train_index, test_index = next(skf.split(current, y))\n",
    "\n",
    "input_feature = generate_input_feature(current, voltage, image_type=\"adaptive\", width=30, multi_dimension=True)\n",
    "Xtrain, Xtest = input_feature[train_index], input_feature[test_index]\n",
    "ytrain, ytest = y[train_index], y[test_index]\n",
    "\n",
    "tra_loader, val_loader=get_loaders(Xtrain, Xtest, ytrain, ytest, batch_size=16)\n",
    "print(\"Load LILAC data successfully.\")"
   ]
  },
  {
   "cell_type": "markdown",
   "id": "782582e3",
   "metadata": {},
   "source": [
    "## Test Train.py"
   ]
  },
  {
   "cell_type": "code",
   "execution_count": 2,
   "id": "a47938a3",
   "metadata": {},
   "outputs": [
    {
     "name": "stdout",
     "output_type": "stream",
     "text": [
      "Input l for lilac, p for plaid)l\n",
      "Input a for AWRG, v for VI-graptha\n",
      "Input epsilon (suggest 10):10\n",
      "Input delta (suggest 10):10\n",
      "Input width (suggest 50):50\n"
     ]
    }
   ],
   "source": [
    "# get_user_inputs()\n",
    "dataset, image_type, eps, delta, width = get_user_inputs()"
   ]
  },
  {
   "cell_type": "code",
   "execution_count": 3,
   "id": "4f44d9e3",
   "metadata": {},
   "outputs": [
    {
     "name": "stderr",
     "output_type": "stream",
     "text": [
      "processed: 10: : 9it [00:00, 69.41it/s]"
     ]
    },
    {
     "name": "stdout",
     "output_type": "stream",
     "text": [
      "Load lilac aggregated data from ../data/lilac/aggregated/\n",
      "correct labels for some appliances\n"
     ]
    },
    {
     "name": "stderr",
     "output_type": "stream",
     "text": [
      "processed: 1324: : 1324it [00:19, 67.75it/s]\n"
     ]
    },
    {
     "name": "stdout",
     "output_type": "stream",
     "text": [
      "Trainer for lilac created.\n"
     ]
    }
   ],
   "source": [
    "# create_trainer()\n",
    "dataset = 'lilac'\n",
    "image_type = 'adaptive'\n",
    "eps = 10\n",
    "delta = 10\n",
    "width = 50\n",
    "batch_size = 16\n",
    "num_class, trainer = create_trainer(dataset=dataset, image_type=image_type, multi_dimension=True, batch_size=batch_size, \n",
    "                                    width=width, eps=eps, delta=delta)"
   ]
  },
  {
   "cell_type": "code",
   "execution_count": 4,
   "id": "cb9e5ca9",
   "metadata": {},
   "outputs": [
    {
     "name": "stderr",
     "output_type": "stream",
     "text": [
      "Epoch 0: 100%|██████████| 63/63 [00:04<00:00, 14.07it/s, loss=2.447, score=0.216]\n",
      "Epoch 1: 100%|██████████| 63/63 [00:03<00:00, 19.40it/s, loss=1.297, score=0.572]\n",
      "Epoch 2: 100%|██████████| 63/63 [00:03<00:00, 19.59it/s, loss=0.745, score=0.739]\n",
      "Epoch 3: 100%|██████████| 63/63 [00:03<00:00, 19.82it/s, loss=0.579, score=0.808]\n",
      "Epoch 4: 100%|██████████| 63/63 [00:03<00:00, 20.03it/s, loss=0.527, score=0.810]\n",
      "Epoch 5: 100%|██████████| 63/63 [00:02<00:00, 26.71it/s, loss=0.464, score=0.824]\n",
      "Epoch 6: 100%|██████████| 63/63 [00:02<00:00, 26.75it/s, loss=0.465, score=0.826]\n",
      "Epoch 7: 100%|██████████| 63/63 [00:02<00:00, 27.25it/s, loss=0.415, score=0.842]\n",
      "Epoch 8: 100%|██████████| 63/63 [00:02<00:00, 27.27it/s, loss=0.393, score=0.862]\n",
      "Epoch 9: 100%|██████████| 63/63 [00:02<00:00, 27.27it/s, loss=0.399, score=0.865]\n"
     ]
    }
   ],
   "source": [
    "# train_the_model()\n",
    "epochs = 10\n",
    "checkpoint = train_the_model(trainer, dataset, image_type, epochs, width, multi_dimension=True)"
   ]
  },
  {
   "cell_type": "code",
   "execution_count": 15,
   "id": "30b16b38",
   "metadata": {},
   "outputs": [
    {
     "name": "stdout",
     "output_type": "stream",
     "text": [
      "[[0.00000000e+00 1.80551717e+00 1.80434932e+00 2.69642857e-01\n",
      "  2.65625000e-01]\n",
      " [1.00000000e+00 1.04019796e+00 1.03708189e+00 5.97321429e-01\n",
      "  6.09375000e-01]\n",
      " [2.00000000e+00 7.06152710e-01 7.40534660e-01 8.25892857e-01\n",
      "  8.12500000e-01]\n",
      " [3.00000000e+00 6.32097077e-01 6.62460482e-01 8.00892857e-01\n",
      "  8.09895833e-01]\n",
      " [4.00000000e+00 5.64222881e-01 6.07967814e-01 7.98214286e-01\n",
      "  7.96875000e-01]\n",
      " [5.00000000e+00 4.65729771e-01 5.00666446e-01 8.16071429e-01\n",
      "  8.15104167e-01]\n",
      " [6.00000000e+00 3.89051745e-01 4.33712023e-01 9.23214286e-01\n",
      "  9.08854167e-01]\n",
      " [7.00000000e+00 3.93946573e-01 4.38562492e-01 8.91964286e-01\n",
      "  8.85416667e-01]\n",
      " [8.00000000e+00 3.40009541e-01 4.00410728e-01 9.06250000e-01\n",
      "  8.85416667e-01]\n",
      " [9.00000000e+00 3.55476793e-01 4.10996379e-01 8.43750000e-01\n",
      "  8.35937500e-01]\n",
      " [1.00000000e+01 2.73819751e-01 3.05527482e-01 9.25892857e-01\n",
      "  9.19270833e-01]\n",
      " [1.10000000e+01 2.29388447e-01 2.82694732e-01 9.57142857e-01\n",
      "  9.29687500e-01]\n",
      " [1.20000000e+01 1.97179790e-01 2.68948986e-01 9.55357143e-01\n",
      "  9.34895833e-01]\n",
      " [1.30000000e+01 3.21498525e-01 3.81278692e-01 8.94642857e-01\n",
      "  8.77604167e-01]\n",
      " [1.40000000e+01 1.83654953e-01 2.38623653e-01 9.48214286e-01\n",
      "  9.34895833e-01]\n",
      " [1.50000000e+01 1.28424300e-01 1.77929432e-01 9.65178571e-01\n",
      "  9.42708333e-01]\n",
      " [1.60000000e+01 1.25738598e-01 1.85226747e-01 9.62500000e-01\n",
      "  9.42708333e-01]\n",
      " [1.70000000e+01 1.47045007e-01 1.88227655e-01 9.52678571e-01\n",
      "  9.32291667e-01]\n",
      " [1.80000000e+01 1.16664597e-01 1.66143279e-01 9.66964286e-01\n",
      "  9.42708333e-01]\n",
      " [1.90000000e+01 1.78219803e-01 2.61220673e-01 9.21428571e-01\n",
      "  8.90625000e-01]\n",
      " [2.00000000e+01 1.25693835e-01 2.09335516e-01 9.58035714e-01\n",
      "  9.37500000e-01]\n",
      " [2.10000000e+01 1.25931448e-01 1.72346390e-01 9.63392857e-01\n",
      "  9.45312500e-01]\n",
      " [2.20000000e+01 1.29846113e-01 2.07007498e-01 9.62500000e-01\n",
      "  9.42708333e-01]\n",
      " [2.30000000e+01 1.17519480e-01 1.87972245e-01 9.69642857e-01\n",
      "  9.42708333e-01]\n",
      " [2.40000000e+01 1.09696393e-01 1.76567972e-01 9.68750000e-01\n",
      "  9.50520833e-01]\n",
      " [2.50000000e+01 9.19611987e-02 1.53730978e-01 9.75892857e-01\n",
      "  9.58333333e-01]\n",
      " [2.60000000e+01 9.62459138e-02 1.63741471e-01 9.76785714e-01\n",
      "  9.58333333e-01]\n",
      " [2.70000000e+01 9.11472955e-02 1.52451452e-01 9.76785714e-01\n",
      "  9.58333333e-01]\n",
      " [2.80000000e+01 8.13219428e-02 1.55376440e-01 9.74107143e-01\n",
      "  9.53125000e-01]\n",
      " [2.90000000e+01 8.39731971e-02 1.63580696e-01 9.76785714e-01\n",
      "  9.58333333e-01]\n",
      " [3.00000000e+01 1.09940347e-01 1.85322118e-01 9.68750000e-01\n",
      "  9.47916667e-01]\n",
      " [3.10000000e+01 8.50323107e-02 1.61648194e-01 9.68750000e-01\n",
      "  9.37500000e-01]\n",
      " [3.20000000e+01 8.47175080e-02 1.53655955e-01 9.75000000e-01\n",
      "  9.45312500e-01]\n",
      " [3.30000000e+01 8.61241313e-02 1.57443498e-01 9.75892857e-01\n",
      "  9.58333333e-01]\n",
      " [3.40000000e+01 7.22262242e-02 1.49982592e-01 9.75892857e-01\n",
      "  9.58333333e-01]\n",
      " [3.50000000e+01 9.39720677e-02 1.85712380e-01 9.66071429e-01\n",
      "  9.40104167e-01]\n",
      " [3.60000000e+01 7.46118565e-02 1.41861724e-01 9.76785714e-01\n",
      "  9.58333333e-01]\n",
      " [3.70000000e+01 6.95498283e-02 1.42636602e-01 9.77678571e-01\n",
      "  9.55729167e-01]\n",
      " [3.80000000e+01 8.39140725e-02 1.59896721e-01 9.69642857e-01\n",
      "  9.42708333e-01]\n",
      " [3.90000000e+01 7.17467053e-02 1.60108951e-01 9.74107143e-01\n",
      "  9.40104167e-01]\n",
      " [4.00000000e+01 6.61902623e-02 1.48181414e-01 9.81250000e-01\n",
      "  9.58333333e-01]\n",
      " [4.10000000e+01 6.13026498e-02 1.28644602e-01 9.81250000e-01\n",
      "  9.60937500e-01]\n",
      " [4.20000000e+01 9.16229773e-02 1.69745972e-01 9.80357143e-01\n",
      "  9.53125000e-01]\n",
      " [4.30000000e+01 6.87772073e-02 1.55676278e-01 9.79464286e-01\n",
      "  9.47916667e-01]\n",
      " [4.40000000e+01 6.74278733e-02 1.56056607e-01 9.79464286e-01\n",
      "  9.50520833e-01]\n",
      " [4.50000000e+01 6.04434065e-02 1.51207273e-01 9.83928571e-01\n",
      "  9.60937500e-01]\n",
      " [4.60000000e+01 6.70296929e-02 1.45401053e-01 9.83035714e-01\n",
      "  9.53125000e-01]\n",
      " [4.70000000e+01 6.22529274e-02 1.60396970e-01 9.80357143e-01\n",
      "  9.50520833e-01]\n",
      " [4.80000000e+01 5.48240885e-02 1.36183422e-01 9.84821429e-01\n",
      "  9.60937500e-01]\n",
      " [4.90000000e+01 6.34758289e-02 1.65325715e-01 9.81250000e-01\n",
      "  9.47916667e-01]\n",
      " [5.00000000e+01 6.89652374e-02 1.64488609e-01 9.76785714e-01\n",
      "  9.47916667e-01]\n",
      " [5.10000000e+01 5.59288376e-02 1.53372842e-01 9.80357143e-01\n",
      "  9.58333333e-01]\n",
      " [5.20000000e+01 5.51347217e-02 1.61598335e-01 9.83928571e-01\n",
      "  9.60937500e-01]\n",
      " [5.30000000e+01 5.26103616e-02 1.49613082e-01 9.83035714e-01\n",
      "  9.60937500e-01]\n",
      " [5.40000000e+01 5.59129788e-02 1.42615173e-01 9.84821429e-01\n",
      "  9.53125000e-01]\n",
      " [5.50000000e+01 5.39991462e-02 1.66225503e-01 9.82142857e-01\n",
      "  9.55729167e-01]\n",
      " [5.60000000e+01 8.57993081e-02 1.79321849e-01 9.68750000e-01\n",
      "  9.45312500e-01]\n",
      " [5.70000000e+01 5.17205546e-02 1.64377359e-01 9.83928571e-01\n",
      "  9.58333333e-01]\n",
      " [5.80000000e+01 4.80130773e-02 1.47473488e-01 9.85714286e-01\n",
      "  9.63541667e-01]\n",
      " [5.90000000e+01 5.18588549e-02 1.40810429e-01 9.87500000e-01\n",
      "  9.66145833e-01]\n",
      " [6.00000000e+01 5.16630786e-02 1.51279848e-01 9.85714286e-01\n",
      "  9.58333333e-01]\n",
      " [6.10000000e+01 4.79792617e-02 1.28999432e-01 9.86607143e-01\n",
      "  9.63541667e-01]\n",
      " [6.20000000e+01 5.57824493e-02 1.40104514e-01 9.87500000e-01\n",
      "  9.71354167e-01]\n",
      " [6.30000000e+01 5.20839671e-02 1.49734900e-01 9.87500000e-01\n",
      "  9.66145833e-01]\n",
      " [6.40000000e+01 7.50524285e-02 2.03925591e-01 9.76785714e-01\n",
      "  9.45312500e-01]\n",
      " [6.50000000e+01 5.02859619e-02 1.46471283e-01 9.86607143e-01\n",
      "  9.66145833e-01]\n",
      " [6.60000000e+01 4.59280440e-02 1.37968345e-01 9.85714286e-01\n",
      "  9.66145833e-01]\n",
      " [6.70000000e+01 4.83739373e-02 1.42892250e-01 9.86607143e-01\n",
      "  9.58333333e-01]\n",
      " [6.80000000e+01 4.62316424e-02 1.37212674e-01 9.84821429e-01\n",
      "  9.63541667e-01]\n",
      " [6.90000000e+01 5.66005438e-02 1.34686033e-01 9.86607143e-01\n",
      "  9.63541667e-01]\n",
      " [7.00000000e+01 6.59752062e-02 1.63779423e-01 9.79464286e-01\n",
      "  9.55729167e-01]\n",
      " [7.10000000e+01 4.25095382e-02 1.53549827e-01 9.86607143e-01\n",
      "  9.63541667e-01]\n",
      " [7.20000000e+01 4.35497319e-02 1.40120932e-01 9.87500000e-01\n",
      "  9.66145833e-01]\n",
      " [7.30000000e+01 7.37754601e-02 1.70482720e-01 9.75000000e-01\n",
      "  9.50520833e-01]\n",
      " [7.40000000e+01 4.94271752e-02 1.43555130e-01 9.87500000e-01\n",
      "  9.58333333e-01]\n",
      " [7.50000000e+01 4.18732074e-02 1.45520750e-01 9.87500000e-01\n",
      "  9.60937500e-01]\n",
      " [7.60000000e+01 5.40474681e-02 1.75039708e-01 9.83928571e-01\n",
      "  9.47916667e-01]\n",
      " [7.70000000e+01 4.20756121e-02 1.56612447e-01 9.85714286e-01\n",
      "  9.63541667e-01]\n",
      " [7.80000000e+01 4.47376053e-02 1.59542643e-01 9.86607143e-01\n",
      "  9.66145833e-01]\n",
      " [7.90000000e+01 4.35597626e-02 1.44146246e-01 9.87500000e-01\n",
      "  9.68750000e-01]\n",
      " [8.00000000e+01 4.55746660e-02 1.64513657e-01 9.86607143e-01\n",
      "  9.66145833e-01]\n",
      " [8.10000000e+01 5.70415424e-02 1.67330777e-01 9.83035714e-01\n",
      "  9.50520833e-01]\n",
      " [8.20000000e+01 4.96127552e-02 1.51849099e-01 9.86607143e-01\n",
      "  9.66145833e-01]\n",
      " [8.30000000e+01 4.63578588e-02 1.64896631e-01 9.85714286e-01\n",
      "  9.53125000e-01]\n",
      " [8.40000000e+01 4.27251116e-02 1.38239898e-01 9.84821429e-01\n",
      "  9.66145833e-01]\n",
      " [8.50000000e+01 4.03732900e-02 1.55763906e-01 9.86607143e-01\n",
      "  9.63541667e-01]\n",
      " [8.60000000e+01 4.28978937e-02 1.58708739e-01 9.89285714e-01\n",
      "  9.63541667e-01]\n",
      " [8.70000000e+01 3.93127822e-02 1.36402894e-01 9.89285714e-01\n",
      "  9.68750000e-01]\n",
      " [8.80000000e+01 4.15802727e-02 1.48089046e-01 9.88392857e-01\n",
      "  9.71354167e-01]\n",
      " [8.90000000e+01 4.21716220e-02 1.45635737e-01 9.86607143e-01\n",
      "  9.63541667e-01]\n",
      " [9.00000000e+01 7.00532816e-02 1.74928143e-01 9.73214286e-01\n",
      "  9.50520833e-01]\n",
      " [9.10000000e+01 3.71720316e-02 1.48538823e-01 9.87500000e-01\n",
      "  9.68750000e-01]\n",
      " [9.20000000e+01 5.33911273e-02 1.72041641e-01 9.80357143e-01\n",
      "  9.47916667e-01]\n",
      " [9.30000000e+01 4.09518914e-02 1.62379382e-01 9.87500000e-01\n",
      "  9.58333333e-01]\n",
      " [9.40000000e+01 4.41283307e-02 1.44320027e-01 9.87500000e-01\n",
      "  9.58333333e-01]\n",
      " [9.50000000e+01 4.43607606e-02 1.48912333e-01 9.85714286e-01\n",
      "  9.53125000e-01]\n",
      " [9.60000000e+01 4.14555167e-02 1.43461576e-01 9.89285714e-01\n",
      "  9.68750000e-01]\n",
      " [9.70000000e+01 3.97706897e-02 1.40129241e-01 9.88392857e-01\n",
      "  9.66145833e-01]\n",
      " [9.80000000e+01 5.34417767e-02 1.57556247e-01 9.81250000e-01\n",
      "  9.55729167e-01]\n",
      " [9.90000000e+01 3.84040738e-02 1.51413167e-01 9.89285714e-01\n",
      "  9.63541667e-01]]\n"
     ]
    },
    {
     "data": {
      "image/png": "[encoded data removed]",
      "text/plain": [
       "<Figure size 432x288 with 1 Axes>"
      ]
     },
     "metadata": {
      "needs_background": "light"
     },
     "output_type": "display_data"
    }
   ],
   "source": [
    "file_name = 'plaid_adaptive_50'\n",
    "plot_learning_curve(file_name)"
   ]
  },
  {
   "cell_type": "code",
   "execution_count": 5,
   "id": "391a6de3",
   "metadata": {},
   "outputs": [],
   "source": [
    "# test_the_model()\n",
    "test_the_model(trainer, num_class, checkpoint)"
   ]
  },
  {
   "cell_type": "code",
   "execution_count": 3,
   "id": "b8347c93",
   "metadata": {},
   "outputs": [
    {
     "name": "stdout",
     "output_type": "stream",
     "text": [
      "[[0 1 2]\n",
      " [3 4 5]\n",
      " [6 7 8]]\n",
      "[3 6]\n"
     ]
    }
   ],
   "source": [
    "import numpy as np\n",
    "a=np.arange(9).reshape(3,3)\n",
    "print(a)\n",
    "print(a[1:,0])"
   ]
  },
  {
   "cell_type": "code",
   "execution_count": null,
   "id": "05025507",
   "metadata": {},
   "outputs": [],
   "source": []
  }
 ],
 "metadata": {
  "kernelspec": {
   "display_name": "Python 3",
   "language": "python",
   "name": "python3"
  },
  "language_info": {
   "codemirror_mode": {
    "name": "ipython",
    "version": 3
   },
   "file_extension": ".py",
   "mimetype": "text/x-python",
   "name": "python",
   "nbconvert_exporter": "python",
   "pygments_lexer": "ipython3",
   "version": "3.8.8"
  }
 },
 "nbformat": 4,
 "nbformat_minor": 5
}
