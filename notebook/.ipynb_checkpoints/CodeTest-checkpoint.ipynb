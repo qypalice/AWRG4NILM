{
 "cells": [
  {
   "cell_type": "code",
   "execution_count": 1,
   "id": "ebfbe787",
   "metadata": {},
   "outputs": [],
   "source": [
    "import sys\n",
    "sys.path.append('../src/')\n",
    "from train import *"
   ]
  },
  {
   "cell_type": "markdown",
   "id": "a76bc963",
   "metadata": {},
   "source": [
    "## Test dataset.py"
   ]
  },
  {
   "cell_type": "code",
   "execution_count": 12,
   "id": "1df3da77",
   "metadata": {},
   "outputs": [
    {
     "name": "stderr",
     "output_type": "stream",
     "text": [
      "\r",
      "0it [00:00, ?it/s]"
     ]
    },
    {
     "name": "stdout",
     "output_type": "stream",
     "text": [
      "Load lilac aggregated data from ../data/lilac/aggregated/\n"
     ]
    },
    {
     "name": "stderr",
     "output_type": "stream",
     "text": [
      "processed: 1324: : 1324it [08:17,  2.66it/s]"
     ]
    },
    {
     "name": "stdout",
     "output_type": "stream",
     "text": [
      "Load LILAC data successfully.\n"
     ]
    },
    {
     "name": "stderr",
     "output_type": "stream",
     "text": [
      "\n"
     ]
    }
   ],
   "source": [
    "dataset=\"lilac\"\n",
    "current, voltage, labels = get_data(submetered=False, data_type=dataset, isc=False)\n",
    "labels = get_correct_labels_lilac(labels)\n",
    "\n",
    "#perform label enconding\n",
    "le = LabelEncoder()\n",
    "le.fit(labels)\n",
    "y = le.transform(labels)\n",
    "\n",
    "skf = StratifiedKFold(n_splits=4,random_state=42,shuffle=True)\n",
    "train_index, test_index = next(skf.split(current, y))\n",
    "\n",
    "input_feature = generate_input_feature(current, voltage, image_type=\"adaptive\", width=30, multi_dimension=True)\n",
    "Xtrain, Xtest = input_feature[train_index], input_feature[test_index]\n",
    "ytrain, ytest = y[train_index], y[test_index]\n",
    "\n",
    "tra_loader, val_loader=get_loaders(Xtrain, Xtest, ytrain, ytest, batch_size=16)\n",
    "print(\"Load LILAC data successfully.\")"
   ]
  },
  {
   "cell_type": "markdown",
   "id": "782582e3",
   "metadata": {},
   "source": [
    "## Test Train.py"
   ]
  },
  {
   "cell_type": "code",
   "execution_count": 2,
   "id": "a47938a3",
   "metadata": {},
   "outputs": [
    {
     "name": "stdout",
     "output_type": "stream",
     "text": [
      "Input l for lilac, p for plaid)l\n",
      "Input a for AWRG, v for VI-graptha\n",
      "Input epsilon (suggest 10):10\n",
      "Input delta (suggest 10):10\n",
      "Input width (suggest 50):50\n"
     ]
    }
   ],
   "source": [
    "# get_user_inputs()\n",
    "dataset, image_type, eps, delta, width = get_user_inputs()"
   ]
  },
  {
   "cell_type": "code",
   "execution_count": 2,
   "id": "4f44d9e3",
   "metadata": {},
   "outputs": [
    {
     "name": "stderr",
     "output_type": "stream",
     "text": [
      "processed: 7: : 6it [00:00, 59.09it/s]"
     ]
    },
    {
     "name": "stdout",
     "output_type": "stream",
     "text": [
      "Load lilac aggregated data from ../data/lilac/aggregated/\n",
      "correct labels for some appliances\n"
     ]
    },
    {
     "name": "stderr",
     "output_type": "stream",
     "text": [
      "processed: 1324: : 1324it [00:19, 67.11it/s]\n"
     ]
    },
    {
     "name": "stdout",
     "output_type": "stream",
     "text": [
      "Trainer for lilac created.\n"
     ]
    }
   ],
   "source": [
    "# create_trainer()\n",
    "dataset = 'lilac'\n",
    "image_type = 'adaptive'\n",
    "eps = 10\n",
    "delta = 10\n",
    "width = 50\n",
    "batch_size = 16\n",
    "num_class, trainer = create_trainer(dataset=dataset, image_type=image_type, multi_dimension=True, batch_size=batch_size, \n",
    "                                    width=width, eps=eps, delta=delta)"
   ]
  },
  {
   "cell_type": "code",
   "execution_count": 3,
   "id": "ec66b25a",
   "metadata": {},
   "outputs": [
    {
     "name": "stderr",
     "output_type": "stream",
     "text": [
      "Epoch 0: 100%|██████████| 63/63 [01:18<00:00,  1.24s/it, loss=1.295, score=0.678]\n",
      "Epoch 1: 100%|██████████| 63/63 [01:15<00:00,  1.20s/it, loss=0.297, score=0.928]\n",
      "Epoch 2: 100%|██████████| 63/63 [01:15<00:00,  1.20s/it, loss=0.193, score=0.964]\n",
      "Epoch 3: 100%|██████████| 63/63 [01:15<00:00,  1.20s/it, loss=0.165, score=0.970]\n",
      "Epoch 4: 100%|██████████| 63/63 [01:15<00:00,  1.20s/it, loss=0.132, score=0.974]\n",
      "Epoch 5: 100%|██████████| 63/63 [01:15<00:00,  1.20s/it, loss=0.115, score=0.977]\n",
      "Epoch 6: 100%|██████████| 63/63 [01:15<00:00,  1.20s/it, loss=0.075, score=0.986]\n",
      "Epoch 7: 100%|██████████| 63/63 [01:15<00:00,  1.21s/it, loss=0.099, score=0.987]\n",
      "Epoch 8: 100%|██████████| 63/63 [01:16<00:00,  1.21s/it, loss=0.076, score=0.986]\n",
      "Epoch 9: 100%|██████████| 63/63 [01:15<00:00,  1.20s/it, loss=0.065, score=0.988]\n",
      "Epoch 10: 100%|██████████| 63/63 [01:16<00:00,  1.21s/it, loss=0.059, score=0.987]\n",
      "Epoch 11: 100%|██████████| 63/63 [01:15<00:00,  1.20s/it, loss=0.078, score=0.988]\n",
      "Epoch 12: 100%|██████████| 63/63 [01:16<00:00,  1.21s/it, loss=0.096, score=0.985]\n",
      "Epoch 13: 100%|██████████| 63/63 [01:16<00:00,  1.21s/it, loss=0.070, score=0.988]\n",
      "Epoch 14: 100%|██████████| 63/63 [01:16<00:00,  1.21s/it, loss=0.044, score=0.993]\n",
      "Epoch 15: 100%|██████████| 63/63 [01:15<00:00,  1.20s/it, loss=0.045, score=0.990]\n",
      "Epoch 16: 100%|██████████| 63/63 [01:15<00:00,  1.20s/it, loss=0.092, score=0.989]\n",
      "Epoch 17: 100%|██████████| 63/63 [01:15<00:00,  1.20s/it, loss=0.041, score=0.989]\n",
      "Epoch 18: 100%|██████████| 63/63 [01:15<00:00,  1.20s/it, loss=0.061, score=0.990]\n",
      "Epoch 19: 100%|██████████| 63/63 [01:15<00:00,  1.20s/it, loss=0.060, score=0.992]\n"
     ]
    },
    {
     "data": {
      "image/png": "[encoded data removed]",
      "text/plain": [
       "<Figure size 432x288 with 1 Axes>"
      ]
     },
     "metadata": {
      "needs_background": "light"
     },
     "output_type": "display_data"
    }
   ],
   "source": [
    "# train_the_model()\n",
    "epochs = 20\n",
    "checkpoint, file_name = train_the_model(trainer, dataset, image_type, epochs, width, multi_dimension=True)\n",
    "plot_learning_curve(file_name)"
   ]
  },
  {
   "cell_type": "code",
   "execution_count": 5,
   "id": "4e497205",
   "metadata": {},
   "outputs": [
    {
     "data": {
      "image/png": "[encoded data removed]",
      "text/plain": [
       "<Figure size 432x288 with 1 Axes>"
      ]
     },
     "metadata": {
      "needs_background": "light"
     },
     "output_type": "display_data"
    },
    {
     "ename": "AttributeError",
     "evalue": "'tuple' object has no attribute 'load_saved_model'",
     "output_type": "error",
     "traceback": [
      "\u001b[1;31m---------------------------------------------------------------------------\u001b[0m",
      "\u001b[1;31mAttributeError\u001b[0m                            Traceback (most recent call last)",
      "\u001b[1;32m<ipython-input-5-13a6273fbeb3>\u001b[0m in \u001b[0;36m<module>\u001b[1;34m\u001b[0m\n\u001b[0;32m      2\u001b[0m \u001b[0mplot_learning_curve\u001b[0m\u001b[1;33m(\u001b[0m\u001b[0mfile_name\u001b[0m\u001b[1;33m)\u001b[0m\u001b[1;33m\u001b[0m\u001b[1;33m\u001b[0m\u001b[0m\n\u001b[0;32m      3\u001b[0m \u001b[1;31m# test_the_model()\u001b[0m\u001b[1;33m\u001b[0m\u001b[1;33m\u001b[0m\u001b[1;33m\u001b[0m\u001b[0m\n\u001b[1;32m----> 4\u001b[1;33m \u001b[0mtest_the_model\u001b[0m\u001b[1;33m(\u001b[0m\u001b[0mtrainer\u001b[0m\u001b[1;33m,\u001b[0m \u001b[0mnum_class\u001b[0m\u001b[1;33m,\u001b[0m \u001b[0mcheckpoint\u001b[0m\u001b[1;33m,\u001b[0m\u001b[0mfile_name\u001b[0m\u001b[1;33m)\u001b[0m\u001b[1;33m\u001b[0m\u001b[1;33m\u001b[0m\u001b[0m\n\u001b[0m",
      "\u001b[1;32mE:\\_reVolt\\codes\\qypAWRG4NILM\\src\\train.py\u001b[0m in \u001b[0;36mtest_the_model\u001b[1;34m(trainer, num_class, checkpoint, file_name)\u001b[0m\n\u001b[0;32m    120\u001b[0m \u001b[1;33m\u001b[0m\u001b[0m\n\u001b[0;32m    121\u001b[0m \u001b[1;32mdef\u001b[0m \u001b[0mtest_the_model\u001b[0m\u001b[1;33m(\u001b[0m\u001b[0mtrainer\u001b[0m\u001b[1;33m,\u001b[0m \u001b[0mnum_class\u001b[0m\u001b[1;33m,\u001b[0m \u001b[0mcheckpoint\u001b[0m\u001b[1;33m,\u001b[0m \u001b[0mfile_name\u001b[0m\u001b[1;33m)\u001b[0m\u001b[1;33m:\u001b[0m\u001b[1;33m\u001b[0m\u001b[1;33m\u001b[0m\u001b[0m\n\u001b[1;32m--> 122\u001b[1;33m     \u001b[0mf1\u001b[0m\u001b[1;33m,\u001b[0m \u001b[0mmcc\u001b[0m\u001b[1;33m,\u001b[0m \u001b[0mzl\u001b[0m \u001b[1;33m=\u001b[0m \u001b[0mtrainer\u001b[0m\u001b[1;33m.\u001b[0m\u001b[0mtest\u001b[0m\u001b[1;33m(\u001b[0m\u001b[0mnum_class\u001b[0m\u001b[1;33m,\u001b[0m \u001b[0mcheckpoint\u001b[0m\u001b[1;33m)\u001b[0m\u001b[1;33m\u001b[0m\u001b[1;33m\u001b[0m\u001b[0m\n\u001b[0m\u001b[0;32m    123\u001b[0m     \u001b[0mfilename\u001b[0m \u001b[1;33m=\u001b[0m \u001b[0mfile_name\u001b[0m\u001b[1;33m+\u001b[0m\u001b[1;34m'_{}'\u001b[0m\u001b[1;33m.\u001b[0m\u001b[0mformat\u001b[0m\u001b[1;33m(\u001b[0m\u001b[0mdatetime\u001b[0m\u001b[1;33m.\u001b[0m\u001b[0mutcnow\u001b[0m\u001b[1;33m(\u001b[0m\u001b[1;33m)\u001b[0m\u001b[1;33m.\u001b[0m\u001b[0mstrftime\u001b[0m\u001b[1;33m(\u001b[0m\u001b[1;34m'%m-%d-%H-%M'\u001b[0m\u001b[1;33m)\u001b[0m\u001b[1;33m)\u001b[0m\u001b[1;33m\u001b[0m\u001b[1;33m\u001b[0m\u001b[0m\n\u001b[0;32m    124\u001b[0m     \u001b[0mf\u001b[0m \u001b[1;33m=\u001b[0m \u001b[0mopen\u001b[0m\u001b[1;33m(\u001b[0m\u001b[1;34m'../results/{}.txt'\u001b[0m\u001b[1;33m.\u001b[0m\u001b[0mformat\u001b[0m\u001b[1;33m(\u001b[0m\u001b[0mfilename\u001b[0m\u001b[1;33m)\u001b[0m\u001b[1;33m,\u001b[0m \u001b[1;34m'w'\u001b[0m\u001b[1;33m)\u001b[0m\u001b[1;33m\u001b[0m\u001b[1;33m\u001b[0m\u001b[0m\n",
      "\u001b[1;32mE:\\_reVolt\\codes\\qypAWRG4NILM\\src\\trainer.py\u001b[0m in \u001b[0;36mtest\u001b[1;34m(self, num_class, checkpoint)\u001b[0m\n\u001b[0;32m    185\u001b[0m     \u001b[1;32mdef\u001b[0m \u001b[0mtest\u001b[0m\u001b[1;33m(\u001b[0m\u001b[0mself\u001b[0m\u001b[1;33m,\u001b[0m \u001b[0mnum_class\u001b[0m\u001b[1;33m,\u001b[0m \u001b[0mcheckpoint\u001b[0m\u001b[1;33m)\u001b[0m\u001b[1;33m:\u001b[0m\u001b[1;33m\u001b[0m\u001b[1;33m\u001b[0m\u001b[0m\n\u001b[0;32m    186\u001b[0m         \u001b[1;31m# get prediction\u001b[0m\u001b[1;33m\u001b[0m\u001b[1;33m\u001b[0m\u001b[1;33m\u001b[0m\u001b[0m\n\u001b[1;32m--> 187\u001b[1;33m         \u001b[0mpred\u001b[0m\u001b[1;33m,\u001b[0m \u001b[0mtest\u001b[0m  \u001b[1;33m=\u001b[0m \u001b[0mself\u001b[0m\u001b[1;33m.\u001b[0m\u001b[0m_get_prediction\u001b[0m\u001b[1;33m(\u001b[0m\u001b[0mcheckpoint\u001b[0m\u001b[1;33m,\u001b[0m \u001b[0mself\u001b[0m\u001b[1;33m.\u001b[0m\u001b[0mtest_loader\u001b[0m\u001b[1;33m,\u001b[0m \u001b[0mnum_class\u001b[0m\u001b[1;33m)\u001b[0m\u001b[1;33m\u001b[0m\u001b[1;33m\u001b[0m\u001b[0m\n\u001b[0m\u001b[0;32m    188\u001b[0m \u001b[1;33m\u001b[0m\u001b[0m\n\u001b[0;32m    189\u001b[0m         \u001b[1;31m# get scores\u001b[0m\u001b[1;33m\u001b[0m\u001b[1;33m\u001b[0m\u001b[1;33m\u001b[0m\u001b[0m\n",
      "\u001b[1;32mE:\\_reVolt\\codes\\qypAWRG4NILM\\src\\trainer.py\u001b[0m in \u001b[0;36m_get_prediction\u001b[1;34m(self, checkpoint, dataloader, num_class)\u001b[0m\n\u001b[0;32m    283\u001b[0m     \u001b[1;32mdef\u001b[0m \u001b[0m_get_prediction\u001b[0m\u001b[1;33m(\u001b[0m\u001b[0mself\u001b[0m\u001b[1;33m,\u001b[0m \u001b[0mcheckpoint\u001b[0m\u001b[1;33m,\u001b[0m \u001b[0mdataloader\u001b[0m\u001b[1;33m,\u001b[0m \u001b[0mnum_class\u001b[0m\u001b[1;33m)\u001b[0m\u001b[1;33m:\u001b[0m\u001b[1;33m\u001b[0m\u001b[1;33m\u001b[0m\u001b[0m\n\u001b[0;32m    284\u001b[0m         \u001b[1;31m# set parameters\u001b[0m\u001b[1;33m\u001b[0m\u001b[1;33m\u001b[0m\u001b[1;33m\u001b[0m\u001b[0m\n\u001b[1;32m--> 285\u001b[1;33m         \u001b[0mmodel\u001b[0m\u001b[1;33m=\u001b[0m\u001b[0mcheckpoint\u001b[0m\u001b[1;33m.\u001b[0m\u001b[0mload_saved_model\u001b[0m\u001b[1;33m(\u001b[0m\u001b[0mself\u001b[0m\u001b[1;33m.\u001b[0m\u001b[0mmodel\u001b[0m\u001b[1;33m)\u001b[0m\u001b[1;33m\u001b[0m\u001b[1;33m\u001b[0m\u001b[0m\n\u001b[0m\u001b[0;32m    286\u001b[0m         \u001b[0mmodel\u001b[0m\u001b[1;33m.\u001b[0m\u001b[0meval\u001b[0m\u001b[1;33m(\u001b[0m\u001b[1;33m)\u001b[0m\u001b[1;33m\u001b[0m\u001b[1;33m\u001b[0m\u001b[0m\n\u001b[0;32m    287\u001b[0m         \u001b[0mnum_elements\u001b[0m \u001b[1;33m=\u001b[0m \u001b[0mdataloader\u001b[0m\u001b[1;33m.\u001b[0m\u001b[0mlen\u001b[0m \u001b[1;32mif\u001b[0m \u001b[0mhasattr\u001b[0m\u001b[1;33m(\u001b[0m\u001b[0mdataloader\u001b[0m\u001b[1;33m,\u001b[0m \u001b[1;34m'len'\u001b[0m\u001b[1;33m)\u001b[0m \u001b[1;32melse\u001b[0m \u001b[0mlen\u001b[0m\u001b[1;33m(\u001b[0m\u001b[0mdataloader\u001b[0m\u001b[1;33m.\u001b[0m\u001b[0mdataset\u001b[0m\u001b[1;33m)\u001b[0m\u001b[1;33m\u001b[0m\u001b[1;33m\u001b[0m\u001b[0m\n",
      "\u001b[1;31mAttributeError\u001b[0m: 'tuple' object has no attribute 'load_saved_model'"
     ]
    }
   ],
   "source": [
    "# test_the_model()\n",
    "test_the_model(trainer, num_class, checkpoint,file_name)\n"
   ]
  },
  {
   "cell_type": "code",
   "execution_count": 4,
   "id": "cb9e5ca9",
   "metadata": {},
   "outputs": [
    {
     "name": "stderr",
     "output_type": "stream",
     "text": [
      "Epoch 0: 100%|██████████| 63/63 [00:04<00:00, 14.07it/s, loss=2.447, score=0.216]\n",
      "Epoch 1: 100%|██████████| 63/63 [00:03<00:00, 19.40it/s, loss=1.297, score=0.572]\n",
      "Epoch 2: 100%|██████████| 63/63 [00:03<00:00, 19.59it/s, loss=0.745, score=0.739]\n",
      "Epoch 3: 100%|██████████| 63/63 [00:03<00:00, 19.82it/s, loss=0.579, score=0.808]\n",
      "Epoch 4: 100%|██████████| 63/63 [00:03<00:00, 20.03it/s, loss=0.527, score=0.810]\n",
      "Epoch 5: 100%|██████████| 63/63 [00:02<00:00, 26.71it/s, loss=0.464, score=0.824]\n",
      "Epoch 6: 100%|██████████| 63/63 [00:02<00:00, 26.75it/s, loss=0.465, score=0.826]\n",
      "Epoch 7: 100%|██████████| 63/63 [00:02<00:00, 27.25it/s, loss=0.415, score=0.842]\n",
      "Epoch 8: 100%|██████████| 63/63 [00:02<00:00, 27.27it/s, loss=0.393, score=0.862]\n",
      "Epoch 9: 100%|██████████| 63/63 [00:02<00:00, 27.27it/s, loss=0.399, score=0.865]\n"
     ]
    }
   ],
   "source": [
    "file_name = 'lilac_adaptive_50'\n",
    "plot_learning_curve(file_name)\n",
    "# train_the_model()\n",
    "epochs = 10\n",
    "checkpoint = train_the_model(trainer, dataset, image_type, epochs, width, multi_dimension=True)"
   ]
  },
  {
   "cell_type": "code",
   "execution_count": 6,
   "id": "6c3ab34b",
   "metadata": {},
   "outputs": [
    {
     "data": {
      "image/png": "[encoded data removed]",
      "text/plain": [
       "<Figure size 432x288 with 1 Axes>"
      ]
     },
     "metadata": {
      "needs_background": "light"
     },
     "output_type": "display_data"
    }
   ],
   "source": [
    "file_name = 'plaid_adaptive_50'\n",
    "plot_learning_curve(file_name)"
   ]
  },
  {
   "cell_type": "code",
   "execution_count": 5,
   "id": "391a6de3",
   "metadata": {},
   "outputs": [],
   "source": [
    "# test_the_model()\n",
    "test_the_model(trainer, num_class, checkpoint)"
   ]
  },
  {
   "cell_type": "code",
   "execution_count": 1,
   "id": "b8347c93",
   "metadata": {},
   "outputs": [
    {
     "name": "stderr",
     "output_type": "stream",
     "text": [
      "processed: 12: : 11it [00:00, 85.28it/s]"
     ]
    },
    {
     "name": "stdout",
     "output_type": "stream",
     "text": [
      "Load lilac aggregated data from ../data/lilac/aggregated/\n",
      "correct labels for some appliances\n"
     ]
    },
    {
     "name": "stderr",
     "output_type": "stream",
     "text": [
      "processed: 1324: : 1324it [00:15, 84.84it/s]\n",
      "Epoch 0:   0%|          | 0/63 [00:00<?, ?it/s]"
     ]
    },
    {
     "name": "stdout",
     "output_type": "stream",
     "text": [
      "Trainer for lilac created.\n"
     ]
    },
    {
     "name": "stderr",
     "output_type": "stream",
     "text": [
      "Epoch 0: 100%|██████████| 63/63 [00:13<00:00,  4.56it/s, loss=2.622, score=0.179]\n",
      "Epoch 1: 100%|██████████| 63/63 [00:13<00:00,  4.65it/s, loss=2.339, score=0.348]\n"
     ]
    },
    {
     "data": {
      "text/plain": [
       "<Figure size 640x480 with 1 Axes>"
      ]
     },
     "metadata": {},
     "output_type": "display_data"
    }
   ],
   "source": [
    "import sys\n",
    "sys.path.append('../src/')\n",
    "from train import *\n",
    "dataset = 'lilac'\n",
    "image_type = 'adaptive'\n",
    "eps = 10\n",
    "delta = 10\n",
    "width = 50\n",
    "batch_size = 16\n",
    "\n",
    "# create_trainer()\n",
    "model_name = 'EffiNet_small'\n",
    "num_class, trainer = create_trainer(dataset=dataset, image_type=image_type, model_name=model_name, multi_dimension=True, batch_size=batch_size, \n",
    "                                    width=width, eps=eps, delta=delta)\n",
    "\n",
    "# train_the_model()\n",
    "epochs = 2\n",
    "checkpoint_es, file_name_es = train_the_model(trainer, dataset, image_type, model_name, epochs, width, multi_dimension=True)\n",
    "plot_learning_curve(file_name_es)\n",
    "\n",
    "# test_the_model()\n",
    "test_the_model(trainer, num_class, checkpoint_es,file_name_es)"
   ]
  },
  {
   "cell_type": "code",
   "execution_count": null,
   "id": "804425ab",
   "metadata": {},
   "outputs": [],
   "source": []
  }
 ],
 "metadata": {
  "kernelspec": {
   "display_name": "Environment (conda_pytorch_p36)",
   "language": "python",
   "name": "conda_pytorch_p36"
  },
  "language_info": {
   "codemirror_mode": {
    "name": "ipython",
    "version": 3
   },
   "file_extension": ".py",
   "mimetype": "text/x-python",
   "name": "python",
   "nbconvert_exporter": "python",
   "pygments_lexer": "ipython3",
   "version": "3.6.13"
  }
 },
 "nbformat": 4,
 "nbformat_minor": 5
}
