{
 "cells": [
  {
   "cell_type": "code",
   "execution_count": 1,
   "id": "ebfbe787",
   "metadata": {},
   "outputs": [
    {
     "name": "stdout",
     "output_type": "stream",
     "text": [
      "set seed\n"
     ]
    },
    {
     "name": "stderr",
     "output_type": "stream",
     "text": [
      "C:\\Users\\qypal\\anaconda3\\envs\\pytorch_GPU\\lib\\_collections_abc.py:832: MatplotlibDeprecationWarning: Support for setting the 'text.latex.preamble' or 'pgf.preamble' rcParam to a list of strings is deprecated since 3.3 and will be removed two minor releases later; set it to a single string instead.\n",
      "  self[key] = other[key]\n"
     ]
    }
   ],
   "source": [
    "import sys\n",
    "sys.path.append('../src/')\n",
    "from train import *"
   ]
  },
  {
   "cell_type": "markdown",
   "id": "a76bc963",
   "metadata": {},
   "source": [
    "## Test dataset.py"
   ]
  },
  {
   "cell_type": "code",
   "execution_count": 12,
   "id": "1df3da77",
   "metadata": {},
   "outputs": [
    {
     "name": "stderr",
     "output_type": "stream",
     "text": [
      "\r",
      "0it [00:00, ?it/s]"
     ]
    },
    {
     "name": "stdout",
     "output_type": "stream",
     "text": [
      "Load lilac aggregated data from ../data/lilac/aggregated/\n"
     ]
    },
    {
     "name": "stderr",
     "output_type": "stream",
     "text": [
      "processed: 1324: : 1324it [08:17,  2.66it/s]"
     ]
    },
    {
     "name": "stdout",
     "output_type": "stream",
     "text": [
      "Load LILAC data successfully.\n"
     ]
    },
    {
     "name": "stderr",
     "output_type": "stream",
     "text": [
      "\n"
     ]
    }
   ],
   "source": [
    "dataset=\"lilac\"\n",
    "current, voltage, labels = get_data(submetered=False, data_type=dataset, isc=False)\n",
    "labels = get_correct_labels_lilac(labels)\n",
    "\n",
    "#perform label enconding\n",
    "le = LabelEncoder()\n",
    "le.fit(labels)\n",
    "y = le.transform(labels)\n",
    "\n",
    "skf = StratifiedKFold(n_splits=4,random_state=42,shuffle=True)\n",
    "train_index, test_index = next(skf.split(current, y))\n",
    "\n",
    "input_feature = generate_input_feature(current, voltage, image_type=\"adaptive\", width=30, multi_dimension=True)\n",
    "Xtrain, Xtest = input_feature[train_index], input_feature[test_index]\n",
    "ytrain, ytest = y[train_index], y[test_index]\n",
    "\n",
    "tra_loader, val_loader=get_loaders(Xtrain, Xtest, ytrain, ytest, batch_size=16)\n",
    "print(\"Load LILAC data successfully.\")"
   ]
  },
  {
   "cell_type": "markdown",
   "id": "782582e3",
   "metadata": {},
   "source": [
    "## Test Train.py"
   ]
  },
  {
   "cell_type": "code",
   "execution_count": 2,
   "id": "a47938a3",
   "metadata": {},
   "outputs": [
    {
     "name": "stdout",
     "output_type": "stream",
     "text": [
      "Input l for lilac, p for plaid)l\n",
      "Input a for AWRG, v for VI-graptha\n",
      "Input epsilon (suggest 10):10\n",
      "Input delta (suggest 10):10\n",
      "Input width (suggest 50):50\n"
     ]
    }
   ],
   "source": [
    "# get_user_inputs()\n",
    "dataset, image_type, eps, delta, width = get_user_inputs()"
   ]
  },
  {
   "cell_type": "code",
   "execution_count": 3,
   "id": "4f44d9e3",
   "metadata": {},
   "outputs": [
    {
     "name": "stderr",
     "output_type": "stream",
     "text": [
      "processed: 10: : 9it [00:00, 69.41it/s]"
     ]
    },
    {
     "name": "stdout",
     "output_type": "stream",
     "text": [
      "Load lilac aggregated data from ../data/lilac/aggregated/\n",
      "correct labels for some appliances\n"
     ]
    },
    {
     "name": "stderr",
     "output_type": "stream",
     "text": [
      "processed: 1324: : 1324it [00:19, 67.75it/s]\n"
     ]
    },
    {
     "name": "stdout",
     "output_type": "stream",
     "text": [
      "Trainer for lilac created.\n"
     ]
    }
   ],
   "source": [
    "# create_trainer()\n",
    "dataset = 'lilac'\n",
    "image_type = 'adaptive'\n",
    "eps = 10\n",
    "delta = 10\n",
    "width = 50\n",
    "batch_size = 16\n",
    "num_class, trainer = create_trainer(dataset=dataset, image_type=image_type, multi_dimension=True, batch_size=batch_size, \n",
    "                                    width=width, eps=eps, delta=delta)"
   ]
  },
  {
   "cell_type": "code",
   "execution_count": 4,
   "id": "cb9e5ca9",
   "metadata": {},
   "outputs": [
    {
     "name": "stderr",
     "output_type": "stream",
     "text": [
      "Epoch 0: 100%|██████████| 63/63 [00:04<00:00, 14.07it/s, loss=2.447, score=0.216]\n",
      "Epoch 1: 100%|██████████| 63/63 [00:03<00:00, 19.40it/s, loss=1.297, score=0.572]\n",
      "Epoch 2: 100%|██████████| 63/63 [00:03<00:00, 19.59it/s, loss=0.745, score=0.739]\n",
      "Epoch 3: 100%|██████████| 63/63 [00:03<00:00, 19.82it/s, loss=0.579, score=0.808]\n",
      "Epoch 4: 100%|██████████| 63/63 [00:03<00:00, 20.03it/s, loss=0.527, score=0.810]\n",
      "Epoch 5: 100%|██████████| 63/63 [00:02<00:00, 26.71it/s, loss=0.464, score=0.824]\n",
      "Epoch 6: 100%|██████████| 63/63 [00:02<00:00, 26.75it/s, loss=0.465, score=0.826]\n",
      "Epoch 7: 100%|██████████| 63/63 [00:02<00:00, 27.25it/s, loss=0.415, score=0.842]\n",
      "Epoch 8: 100%|██████████| 63/63 [00:02<00:00, 27.27it/s, loss=0.393, score=0.862]\n",
      "Epoch 9: 100%|██████████| 63/63 [00:02<00:00, 27.27it/s, loss=0.399, score=0.865]\n"
     ]
    }
   ],
   "source": [
    "# train_the_model()\n",
    "epochs = 10\n",
    "checkpoint = train_the_model(trainer, dataset, image_type, epochs, width, multi_dimension=True)"
   ]
  },
  {
   "cell_type": "code",
   "execution_count": 5,
   "id": "391a6de3",
   "metadata": {},
   "outputs": [],
   "source": [
    "# test_the_model()\n",
    "test_the_model(trainer, num_class, checkpoint)"
   ]
  },
  {
   "cell_type": "code",
   "execution_count": null,
   "id": "b8347c93",
   "metadata": {},
   "outputs": [],
   "source": []
  }
 ],
 "metadata": {
  "kernelspec": {
   "display_name": "Python 3",
   "language": "python",
   "name": "python3"
  },
  "language_info": {
   "codemirror_mode": {
    "name": "ipython",
    "version": 3
   },
   "file_extension": ".py",
   "mimetype": "text/x-python",
   "name": "python",
   "nbconvert_exporter": "python",
   "pygments_lexer": "ipython3",
   "version": "3.8.8"
  }
 },
 "nbformat": 4,
 "nbformat_minor": 5
}
