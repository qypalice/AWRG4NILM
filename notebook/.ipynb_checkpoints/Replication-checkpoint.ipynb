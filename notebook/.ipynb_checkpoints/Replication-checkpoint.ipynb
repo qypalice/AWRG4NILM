{
 "cells": [
  {
   "cell_type": "code",
   "execution_count": 1,
   "id": "21b7151f",
   "metadata": {},
   "outputs": [
    {
     "name": "stdout",
     "output_type": "stream",
     "text": [
      "set seed\n"
     ]
    },
    {
     "name": "stderr",
     "output_type": "stream",
     "text": [
      "C:\\Users\\qypal\\anaconda3\\envs\\pytorch_GPU\\lib\\_collections_abc.py:832: MatplotlibDeprecationWarning: Support for setting the 'text.latex.preamble' or 'pgf.preamble' rcParam to a list of strings is deprecated since 3.3 and will be removed two minor releases later; set it to a single string instead.\n",
      "  self[key] = other[key]\n"
     ]
    }
   ],
   "source": [
    "import sys\n",
    "sys.path.append('../src/')\n",
    "from train import *"
   ]
  },
  {
   "cell_type": "markdown",
   "id": "cb256538",
   "metadata": {},
   "source": [
    "## AWRG for LILAC"
   ]
  },
  {
   "cell_type": "code",
   "execution_count": 2,
   "id": "64a3c42c",
   "metadata": {},
   "outputs": [
    {
     "name": "stdout",
     "output_type": "stream",
     "text": [
      "Input l for lilac, p for plaid)l\n",
      "Input a for AWRG, v for VI-graptha\n",
      "Input epsilon (suggest 10):10\n",
      "Input delta (suggest 10):10\n",
      "Input width (suggest 50):50\n"
     ]
    },
    {
     "name": "stderr",
     "output_type": "stream",
     "text": [
      "processed: 10: : 9it [00:00, 68.07it/s]"
     ]
    },
    {
     "name": "stdout",
     "output_type": "stream",
     "text": [
      "Load lilac aggregated data from ../data/lilac/aggregated/\n",
      "correct labels for some appliances\n"
     ]
    },
    {
     "name": "stderr",
     "output_type": "stream",
     "text": [
      "processed: 1324: : 1324it [00:19, 67.29it/s]\n",
      "  0%|          | 0/63 [00:00<?, ?it/s]"
     ]
    },
    {
     "name": "stdout",
     "output_type": "stream",
     "text": [
      "Trainer for lilac created.\n"
     ]
    },
    {
     "name": "stderr",
     "output_type": "stream",
     "text": [
      "Epoch 0: 100%|██████████| 63/63 [00:04<00:00, 13.56it/s, loss=2.362, score=0.211]\n",
      "Epoch 1: 100%|██████████| 63/63 [00:03<00:00, 19.91it/s, loss=1.377, score=0.543]\n",
      "Epoch 2: 100%|██████████| 63/63 [00:03<00:00, 19.92it/s, loss=0.835, score=0.704]\n",
      "Epoch 3: 100%|██████████| 63/63 [00:03<00:00, 20.00it/s, loss=0.672, score=0.763]\n",
      "Epoch 4: 100%|██████████| 63/63 [00:03<00:00, 19.79it/s, loss=0.556, score=0.791]\n",
      "Epoch 5: 100%|██████████| 63/63 [00:03<00:00, 19.67it/s, loss=0.498, score=0.819]\n",
      "Epoch 6: 100%|██████████| 63/63 [00:03<00:00, 20.61it/s, loss=0.509, score=0.804]\n",
      "Epoch 7: 100%|██████████| 63/63 [00:02<00:00, 27.77it/s, loss=0.446, score=0.840]\n",
      "Epoch 8: 100%|██████████| 63/63 [00:02<00:00, 27.64it/s, loss=0.419, score=0.840]\n",
      "Epoch 9: 100%|██████████| 63/63 [00:02<00:00, 28.23it/s, loss=0.389, score=0.845]\n",
      "Epoch 10: 100%|██████████| 63/63 [00:02<00:00, 28.03it/s, loss=0.354, score=0.876]\n",
      "Epoch 11: 100%|██████████| 63/63 [00:02<00:00, 26.04it/s, loss=0.349, score=0.886]\n",
      "Epoch 12: 100%|██████████| 63/63 [00:02<00:00, 26.67it/s, loss=0.344, score=0.885]\n",
      "Epoch 13: 100%|██████████| 63/63 [00:02<00:00, 28.25it/s, loss=0.331, score=0.891]\n",
      "Epoch 14: 100%|██████████| 63/63 [00:02<00:00, 28.28it/s, loss=0.329, score=0.895]\n",
      "Epoch 15: 100%|██████████| 63/63 [00:02<00:00, 27.77it/s, loss=0.292, score=0.894]\n",
      "Epoch 16: 100%|██████████| 63/63 [00:02<00:00, 28.17it/s, loss=0.280, score=0.903]\n",
      "Epoch 17: 100%|██████████| 63/63 [00:02<00:00, 27.86it/s, loss=0.251, score=0.919]\n",
      "Epoch 18: 100%|██████████| 63/63 [00:02<00:00, 27.09it/s, loss=0.265, score=0.909]\n",
      "Epoch 19: 100%|██████████| 63/63 [00:02<00:00, 28.13it/s, loss=0.235, score=0.917]\n",
      "Epoch 20: 100%|██████████| 63/63 [00:02<00:00, 27.88it/s, loss=0.239, score=0.926]\n",
      "Epoch 21: 100%|██████████| 63/63 [00:02<00:00, 27.67it/s, loss=0.205, score=0.933]\n",
      "Epoch 22: 100%|██████████| 63/63 [00:02<00:00, 28.13it/s, loss=0.204, score=0.928]\n",
      "Epoch 23: 100%|██████████| 63/63 [00:02<00:00, 28.23it/s, loss=0.206, score=0.925]\n",
      "Epoch 24: 100%|██████████| 63/63 [00:02<00:00, 28.07it/s, loss=0.202, score=0.935]\n",
      "Epoch 25: 100%|██████████| 63/63 [00:02<00:00, 27.82it/s, loss=0.207, score=0.927]\n",
      "Epoch 26: 100%|██████████| 63/63 [00:02<00:00, 28.22it/s, loss=0.190, score=0.930]\n",
      "Epoch 27: 100%|██████████| 63/63 [00:02<00:00, 27.51it/s, loss=0.183, score=0.941]\n",
      "Epoch 28: 100%|██████████| 63/63 [00:02<00:00, 27.73it/s, loss=0.174, score=0.947]\n",
      "Epoch 29: 100%|██████████| 63/63 [00:02<00:00, 27.93it/s, loss=0.163, score=0.945]\n",
      "Epoch 30: 100%|██████████| 63/63 [00:02<00:00, 28.18it/s, loss=0.151, score=0.949]\n",
      "Epoch 31: 100%|██████████| 63/63 [00:02<00:00, 28.18it/s, loss=0.150, score=0.963]\n",
      "Epoch 32: 100%|██████████| 63/63 [00:02<00:00, 27.99it/s, loss=0.178, score=0.944]\n",
      "Epoch 33: 100%|██████████| 63/63 [00:02<00:00, 28.16it/s, loss=0.144, score=0.956]\n",
      "Epoch 34: 100%|██████████| 63/63 [00:02<00:00, 27.83it/s, loss=0.155, score=0.959]\n",
      "Epoch 35: 100%|██████████| 63/63 [00:02<00:00, 27.29it/s, loss=0.151, score=0.954]\n",
      "Epoch 36: 100%|██████████| 63/63 [00:02<00:00, 27.88it/s, loss=0.135, score=0.964]\n",
      "Epoch 37: 100%|██████████| 63/63 [00:02<00:00, 28.21it/s, loss=0.142, score=0.953]\n",
      "Epoch 38: 100%|██████████| 63/63 [00:02<00:00, 27.85it/s, loss=0.129, score=0.964]\n",
      "Epoch 39: 100%|██████████| 63/63 [00:02<00:00, 27.49it/s, loss=0.128, score=0.968]\n",
      "Epoch 40: 100%|██████████| 63/63 [00:02<00:00, 27.79it/s, loss=0.128, score=0.966]\n",
      "Epoch 41: 100%|██████████| 63/63 [00:02<00:00, 28.48it/s, loss=0.124, score=0.972]\n",
      "Epoch 42: 100%|██████████| 63/63 [00:02<00:00, 27.86it/s, loss=0.127, score=0.972]\n",
      "Epoch 43: 100%|██████████| 63/63 [00:02<00:00, 27.89it/s, loss=0.114, score=0.975]\n",
      "Epoch 44: 100%|██████████| 63/63 [00:02<00:00, 27.90it/s, loss=0.102, score=0.975]\n",
      "Epoch 45: 100%|██████████| 63/63 [00:02<00:00, 27.25it/s, loss=0.129, score=0.970]\n",
      "Epoch 46: 100%|██████████| 63/63 [00:02<00:00, 27.16it/s, loss=0.108, score=0.972]\n",
      "Epoch 47: 100%|██████████| 63/63 [00:02<00:00, 28.02it/s, loss=0.123, score=0.975]\n",
      "Epoch 48: 100%|██████████| 63/63 [00:02<00:00, 28.33it/s, loss=0.105, score=0.978]\n",
      "Epoch 49: 100%|██████████| 63/63 [00:02<00:00, 27.43it/s, loss=0.112, score=0.979]\n",
      "Epoch 50: 100%|██████████| 63/63 [00:02<00:00, 27.37it/s, loss=0.142, score=0.973]\n",
      "Epoch 51: 100%|██████████| 63/63 [00:02<00:00, 27.49it/s, loss=0.110, score=0.982]\n",
      "Epoch 52: 100%|██████████| 63/63 [00:02<00:00, 27.39it/s, loss=0.111, score=0.973]\n",
      "Epoch 53: 100%|██████████| 63/63 [00:02<00:00, 28.24it/s, loss=0.107, score=0.978]\n",
      "Epoch 54: 100%|██████████| 63/63 [00:02<00:00, 28.23it/s, loss=0.095, score=0.988]\n",
      "Epoch 55: 100%|██████████| 63/63 [00:02<00:00, 27.89it/s, loss=0.097, score=0.983]\n",
      "Epoch 56: 100%|██████████| 63/63 [00:02<00:00, 28.03it/s, loss=0.148, score=0.977]\n",
      "Epoch 57: 100%|██████████| 63/63 [00:02<00:00, 27.87it/s, loss=0.112, score=0.980]\n",
      "Epoch 58: 100%|██████████| 63/63 [00:02<00:00, 27.77it/s, loss=0.089, score=0.983]\n",
      "Epoch 59: 100%|██████████| 63/63 [00:02<00:00, 26.61it/s, loss=0.097, score=0.983]\n",
      "Epoch 60: 100%|██████████| 63/63 [00:02<00:00, 27.97it/s, loss=0.091, score=0.986]\n",
      "Epoch 61: 100%|██████████| 63/63 [00:02<00:00, 27.82it/s, loss=0.083, score=0.984]\n",
      "Epoch 62: 100%|██████████| 63/63 [00:02<00:00, 27.08it/s, loss=0.090, score=0.980]\n",
      "Epoch 63: 100%|██████████| 63/63 [00:02<00:00, 28.03it/s, loss=0.086, score=0.985]\n",
      "Epoch 64: 100%|██████████| 63/63 [00:02<00:00, 27.46it/s, loss=0.085, score=0.986]\n",
      "Epoch 65: 100%|██████████| 63/63 [00:02<00:00, 27.47it/s, loss=0.091, score=0.984]\n",
      "Epoch 66: 100%|██████████| 63/63 [00:02<00:00, 25.72it/s, loss=0.091, score=0.984]\n",
      "Epoch 67: 100%|██████████| 63/63 [00:02<00:00, 27.99it/s, loss=0.082, score=0.986]\n",
      "Epoch 68: 100%|██████████| 63/63 [00:02<00:00, 27.81it/s, loss=0.077, score=0.986]\n",
      "Epoch 69: 100%|██████████| 63/63 [00:02<00:00, 27.75it/s, loss=0.087, score=0.985]\n",
      "Epoch 70: 100%|██████████| 63/63 [00:02<00:00, 27.69it/s, loss=0.103, score=0.981]\n",
      "Epoch 71: 100%|██████████| 63/63 [00:02<00:00, 28.09it/s, loss=0.082, score=0.985]\n",
      "Epoch 72: 100%|██████████| 63/63 [00:02<00:00, 27.54it/s, loss=0.075, score=0.989]\n",
      "Epoch 73: 100%|██████████| 63/63 [00:02<00:00, 27.59it/s, loss=0.077, score=0.983]\n",
      "Epoch 74: 100%|██████████| 63/63 [00:02<00:00, 28.03it/s, loss=0.086, score=0.980]\n",
      "Epoch 75: 100%|██████████| 63/63 [00:02<00:00, 28.02it/s, loss=0.087, score=0.987]\n",
      "Epoch 76: 100%|██████████| 63/63 [00:02<00:00, 27.92it/s, loss=0.077, score=0.988]\n",
      "Epoch 77: 100%|██████████| 63/63 [00:02<00:00, 27.78it/s, loss=0.069, score=0.989]\n",
      "Epoch 78: 100%|██████████| 63/63 [00:02<00:00, 27.69it/s, loss=0.067, score=0.988]\n",
      "Epoch 79: 100%|██████████| 63/63 [00:02<00:00, 27.66it/s, loss=0.074, score=0.988]\n",
      "Epoch 80: 100%|██████████| 63/63 [00:02<00:00, 27.51it/s, loss=0.070, score=0.988]\n",
      "Epoch 81: 100%|██████████| 63/63 [00:02<00:00, 28.06it/s, loss=0.071, score=0.988]\n",
      "Epoch 82: 100%|██████████| 63/63 [00:02<00:00, 27.68it/s, loss=0.065, score=0.989]\n",
      "Epoch 83: 100%|██████████| 63/63 [00:02<00:00, 27.88it/s, loss=0.065, score=0.987]\n",
      "Epoch 84: 100%|██████████| 63/63 [00:02<00:00, 27.50it/s, loss=0.069, score=0.987]\n",
      "Epoch 85: 100%|██████████| 63/63 [00:02<00:00, 27.59it/s, loss=0.056, score=0.989]\n",
      "Epoch 86: 100%|██████████| 63/63 [00:02<00:00, 28.37it/s, loss=0.067, score=0.987]\n",
      "Epoch 87: 100%|██████████| 63/63 [00:02<00:00, 27.66it/s, loss=0.068, score=0.989]\n",
      "Epoch 88: 100%|██████████| 63/63 [00:02<00:00, 28.23it/s, loss=0.063, score=0.988]\n",
      "Epoch 89: 100%|██████████| 63/63 [00:02<00:00, 27.87it/s, loss=0.064, score=0.988]\n",
      "Epoch 90: 100%|██████████| 63/63 [00:02<00:00, 27.78it/s, loss=0.059, score=0.989]\n",
      "Epoch 91: 100%|██████████| 63/63 [00:02<00:00, 28.02it/s, loss=0.061, score=0.987]\n",
      "Epoch 92: 100%|██████████| 63/63 [00:02<00:00, 28.06it/s, loss=0.066, score=0.987]\n",
      "Epoch 93: 100%|██████████| 63/63 [00:02<00:00, 28.20it/s, loss=0.054, score=0.989]\n",
      "Epoch 94: 100%|██████████| 63/63 [00:02<00:00, 27.80it/s, loss=0.060, score=0.987]\n",
      "Epoch 95: 100%|██████████| 63/63 [00:02<00:00, 28.05it/s, loss=0.060, score=0.985]\n",
      "Epoch 96: 100%|██████████| 63/63 [00:02<00:00, 26.86it/s, loss=0.160, score=0.986]\n",
      "Epoch 97: 100%|██████████| 63/63 [00:02<00:00, 26.80it/s, loss=0.064, score=0.988]\n"
     ]
    },
    {
     "name": "stderr",
     "output_type": "stream",
     "text": [
      "Epoch 98: 100%|██████████| 63/63 [00:02<00:00, 27.42it/s, loss=0.057, score=0.988]\n",
      "Epoch 99: 100%|██████████| 63/63 [00:02<00:00, 26.54it/s, loss=0.059, score=0.987]\n"
     ]
    }
   ],
   "source": [
    "# get_user_inputs()\n",
    "dataset, image_type, eps, delta, width = get_user_inputs()\n",
    "\n",
    "# create_trainer()\n",
    "batch_size = 16\n",
    "num_class, trainer = create_trainer(dataset=dataset, image_type=image_type, multi_dimension=True, batch_size=batch_size, \n",
    "                                    width=width, eps=eps, delta=delta)\n",
    "\n",
    "# train_the_model()\n",
    "epochs = 100\n",
    "checkpoint = train_the_model(trainer, dataset, image_type, epochs, width, multi_dimension=True)\n",
    "\n",
    "# test_the_model()\n",
    "test_the_model(trainer, num_class, checkpoint)"
   ]
  },
  {
   "cell_type": "markdown",
   "id": "2fb92f00",
   "metadata": {},
   "source": [
    "## AWRG for PLAID"
   ]
  },
  {
   "cell_type": "code",
   "execution_count": 3,
   "id": "ed30028c",
   "metadata": {},
   "outputs": [
    {
     "name": "stdout",
     "output_type": "stream",
     "text": [
      "Input l for lilac, p for plaid)p\n",
      "Input a for AWRG, v for VI-graptha\n",
      "Input epsilon (suggest 10):10\n",
      "Input delta (suggest 10):10\n",
      "Input width (suggest 50):50\n"
     ]
    },
    {
     "name": "stderr",
     "output_type": "stream",
     "text": [
      "processed: 1478: : 1478it [00:03, 423.29it/s]\n",
      "Epoch 0: 100%|██████████| 70/70 [00:02<00:00, 30.25it/s, loss=2.211, score=0.180]\n",
      "Epoch 1: 100%|██████████| 70/70 [00:02<00:00, 29.57it/s, loss=1.478, score=0.472]\n",
      "Epoch 2: 100%|██████████| 70/70 [00:02<00:00, 30.25it/s, loss=1.039, score=0.653]\n",
      "Epoch 3: 100%|██████████| 70/70 [00:02<00:00, 29.50it/s, loss=0.829, score=0.749]\n",
      "Epoch 4: 100%|██████████| 70/70 [00:02<00:00, 29.58it/s, loss=0.700, score=0.769]\n",
      "Epoch 5: 100%|██████████| 70/70 [00:02<00:00, 29.87it/s, loss=0.600, score=0.815]\n",
      "Epoch 6: 100%|██████████| 70/70 [00:02<00:00, 29.13it/s, loss=0.578, score=0.822]\n",
      "Epoch 7: 100%|██████████| 70/70 [00:02<00:00, 30.25it/s, loss=0.517, score=0.836]\n",
      "Epoch 8: 100%|██████████| 70/70 [00:02<00:00, 30.83it/s, loss=0.428, score=0.884]\n",
      "Epoch 9: 100%|██████████| 70/70 [00:02<00:00, 29.77it/s, loss=0.407, score=0.883]\n",
      "Epoch 10: 100%|██████████| 70/70 [00:02<00:00, 29.70it/s, loss=0.371, score=0.899]\n",
      "Epoch 11: 100%|██████████| 70/70 [00:03<00:00, 21.76it/s, loss=0.313, score=0.920]\n",
      "Epoch 12: 100%|██████████| 70/70 [00:02<00:00, 29.66it/s, loss=0.281, score=0.913]\n",
      "Epoch 13: 100%|██████████| 70/70 [00:02<00:00, 30.63it/s, loss=0.246, score=0.933]\n",
      "Epoch 14: 100%|██████████| 70/70 [00:02<00:00, 30.64it/s, loss=0.230, score=0.937]\n",
      "Epoch 15: 100%|██████████| 70/70 [00:02<00:00, 30.60it/s, loss=0.230, score=0.932]\n",
      "Epoch 16: 100%|██████████| 70/70 [00:02<00:00, 30.48it/s, loss=0.187, score=0.949]\n",
      "Epoch 17: 100%|██████████| 70/70 [00:02<00:00, 30.45it/s, loss=0.192, score=0.941]\n",
      "Epoch 18: 100%|██████████| 70/70 [00:02<00:00, 30.82it/s, loss=0.173, score=0.948]\n",
      "Epoch 19: 100%|██████████| 70/70 [00:02<00:00, 30.38it/s, loss=0.179, score=0.953]\n",
      "Epoch 20: 100%|██████████| 70/70 [00:02<00:00, 28.81it/s, loss=0.159, score=0.958]\n",
      "Epoch 21: 100%|██████████| 70/70 [00:02<00:00, 28.04it/s, loss=0.144, score=0.959]\n",
      "Epoch 22: 100%|██████████| 70/70 [00:02<00:00, 30.00it/s, loss=0.137, score=0.960]\n",
      "Epoch 23: 100%|██████████| 70/70 [00:02<00:00, 30.46it/s, loss=0.151, score=0.953]\n",
      "Epoch 24: 100%|██████████| 70/70 [00:02<00:00, 30.48it/s, loss=0.142, score=0.951]\n",
      "Epoch 25: 100%|██████████| 70/70 [00:02<00:00, 30.68it/s, loss=0.139, score=0.956]\n",
      "Epoch 26: 100%|██████████| 70/70 [00:02<00:00, 30.80it/s, loss=0.137, score=0.958]\n",
      "Epoch 27: 100%|██████████| 70/70 [00:02<00:00, 30.41it/s, loss=0.125, score=0.968]\n",
      "Epoch 28: 100%|██████████| 70/70 [00:02<00:00, 30.10it/s, loss=0.130, score=0.958]\n",
      "Epoch 29: 100%|██████████| 70/70 [00:02<00:00, 29.61it/s, loss=0.120, score=0.968]\n",
      "Epoch 30: 100%|██████████| 70/70 [00:02<00:00, 30.95it/s, loss=0.113, score=0.968]\n",
      "Epoch 31: 100%|██████████| 70/70 [00:02<00:00, 30.55it/s, loss=0.121, score=0.960]\n",
      "Epoch 32: 100%|██████████| 70/70 [00:02<00:00, 31.04it/s, loss=0.114, score=0.968]\n",
      "Epoch 33: 100%|██████████| 70/70 [00:02<00:00, 30.91it/s, loss=0.113, score=0.964]\n",
      "Epoch 34: 100%|██████████| 70/70 [00:02<00:00, 29.28it/s, loss=0.101, score=0.969]\n",
      "Epoch 35: 100%|██████████| 70/70 [00:02<00:00, 29.34it/s, loss=0.107, score=0.967]\n",
      "Epoch 36: 100%|██████████| 70/70 [00:02<00:00, 30.87it/s, loss=0.109, score=0.964]\n",
      "Epoch 37: 100%|██████████| 70/70 [00:02<00:00, 30.09it/s, loss=0.095, score=0.969]\n",
      "Epoch 38: 100%|██████████| 70/70 [00:02<00:00, 30.10it/s, loss=0.096, score=0.973]\n",
      "Epoch 39: 100%|██████████| 70/70 [00:02<00:00, 30.67it/s, loss=0.092, score=0.971]\n",
      "Epoch 40: 100%|██████████| 70/70 [00:02<00:00, 30.54it/s, loss=0.093, score=0.971]\n",
      "Epoch 41: 100%|██████████| 70/70 [00:02<00:00, 30.18it/s, loss=0.093, score=0.972]\n",
      "Epoch 42: 100%|██████████| 70/70 [00:02<00:00, 30.74it/s, loss=0.094, score=0.968]\n",
      "Epoch 43: 100%|██████████| 70/70 [00:02<00:00, 30.84it/s, loss=0.095, score=0.971]\n",
      "Epoch 44: 100%|██████████| 70/70 [00:02<00:00, 30.23it/s, loss=0.094, score=0.975]\n",
      "Epoch 45: 100%|██████████| 70/70 [00:02<00:00, 30.76it/s, loss=0.073, score=0.983]\n",
      "Epoch 46: 100%|██████████| 70/70 [00:02<00:00, 29.63it/s, loss=0.081, score=0.978]\n",
      "Epoch 47: 100%|██████████| 70/70 [00:02<00:00, 29.77it/s, loss=0.083, score=0.976]\n",
      "Epoch 48: 100%|██████████| 70/70 [00:02<00:00, 29.89it/s, loss=0.080, score=0.978]\n",
      "Epoch 49: 100%|██████████| 70/70 [00:02<00:00, 30.30it/s, loss=0.084, score=0.973]\n",
      "Epoch 50: 100%|██████████| 70/70 [00:02<00:00, 29.96it/s, loss=0.090, score=0.977]\n",
      "Epoch 51: 100%|██████████| 70/70 [00:02<00:00, 29.81it/s, loss=0.067, score=0.978]\n",
      "Epoch 52: 100%|██████████| 70/70 [00:02<00:00, 29.24it/s, loss=0.078, score=0.977]\n",
      "Epoch 53: 100%|██████████| 70/70 [00:02<00:00, 29.30it/s, loss=0.080, score=0.972]\n",
      "Epoch 54: 100%|██████████| 70/70 [00:02<00:00, 29.18it/s, loss=0.085, score=0.974]\n",
      "Epoch 55: 100%|██████████| 70/70 [00:02<00:00, 29.71it/s, loss=0.083, score=0.976]\n",
      "Epoch 56: 100%|██████████| 70/70 [00:02<00:00, 30.35it/s, loss=0.074, score=0.978]\n",
      "Epoch 57: 100%|██████████| 70/70 [00:02<00:00, 29.50it/s, loss=0.070, score=0.977]\n",
      "Epoch 58: 100%|██████████| 70/70 [00:02<00:00, 30.17it/s, loss=0.076, score=0.976]\n",
      "Epoch 59: 100%|██████████| 70/70 [00:02<00:00, 29.83it/s, loss=0.081, score=0.980]\n",
      "Epoch 60: 100%|██████████| 70/70 [00:02<00:00, 29.95it/s, loss=0.067, score=0.982]\n",
      "Epoch 61: 100%|██████████| 70/70 [00:02<00:00, 29.80it/s, loss=0.059, score=0.981]\n",
      "Epoch 62: 100%|██████████| 70/70 [00:02<00:00, 31.03it/s, loss=0.073, score=0.979]\n",
      "Epoch 63: 100%|██████████| 70/70 [00:02<00:00, 30.26it/s, loss=0.066, score=0.979]\n",
      "Epoch 64: 100%|██████████| 70/70 [00:02<00:00, 29.32it/s, loss=0.078, score=0.976]\n",
      "Epoch 65: 100%|██████████| 70/70 [00:02<00:00, 29.24it/s, loss=0.074, score=0.978]\n",
      "Epoch 66: 100%|██████████| 70/70 [00:02<00:00, 30.07it/s, loss=0.065, score=0.980]\n",
      "Epoch 67: 100%|██████████| 70/70 [00:02<00:00, 29.98it/s, loss=0.078, score=0.977]\n",
      "Epoch 68: 100%|██████████| 70/70 [00:02<00:00, 29.95it/s, loss=0.071, score=0.981]\n",
      "Epoch 69: 100%|██████████| 70/70 [00:02<00:00, 30.90it/s, loss=0.066, score=0.980]\n",
      "Epoch 70: 100%|██████████| 70/70 [00:02<00:00, 29.92it/s, loss=0.069, score=0.982]\n",
      "Epoch 71: 100%|██████████| 70/70 [00:02<00:00, 30.49it/s, loss=0.067, score=0.978]\n",
      "Epoch 72: 100%|██████████| 70/70 [00:02<00:00, 31.02it/s, loss=0.061, score=0.977]\n",
      "Epoch 73: 100%|██████████| 70/70 [00:02<00:00, 31.10it/s, loss=0.074, score=0.978]\n",
      "Epoch 74: 100%|██████████| 70/70 [00:02<00:00, 31.24it/s, loss=0.065, score=0.981]\n",
      "Epoch 75: 100%|██████████| 70/70 [00:02<00:00, 31.11it/s, loss=0.060, score=0.981]\n",
      "Epoch 76: 100%|██████████| 70/70 [00:02<00:00, 31.29it/s, loss=0.072, score=0.979]\n",
      "Epoch 77: 100%|██████████| 70/70 [00:02<00:00, 29.52it/s, loss=0.062, score=0.979]\n",
      "Epoch 78: 100%|██████████| 70/70 [00:02<00:00, 31.28it/s, loss=0.067, score=0.981]\n",
      "Epoch 79: 100%|██████████| 70/70 [00:02<00:00, 29.04it/s, loss=0.063, score=0.978]\n",
      "Epoch 80: 100%|██████████| 70/70 [00:02<00:00, 29.90it/s, loss=0.064, score=0.979]\n",
      "Epoch 81: 100%|██████████| 70/70 [00:02<00:00, 30.92it/s, loss=0.058, score=0.981]\n",
      "Epoch 82: 100%|██████████| 70/70 [00:02<00:00, 30.89it/s, loss=0.069, score=0.981]\n",
      "Epoch 83: 100%|██████████| 70/70 [00:02<00:00, 30.01it/s, loss=0.071, score=0.976]\n",
      "Epoch 84: 100%|██████████| 70/70 [00:02<00:00, 31.18it/s, loss=0.062, score=0.981]\n",
      "Epoch 85: 100%|██████████| 70/70 [00:02<00:00, 30.93it/s, loss=0.053, score=0.983]\n",
      "Epoch 86: 100%|██████████| 70/70 [00:02<00:00, 29.36it/s, loss=0.060, score=0.983]\n",
      "Epoch 87: 100%|██████████| 70/70 [00:02<00:00, 30.91it/s, loss=0.061, score=0.983]\n",
      "Epoch 88: 100%|██████████| 70/70 [00:02<00:00, 31.14it/s, loss=0.053, score=0.987]\n",
      "Epoch 89: 100%|██████████| 70/70 [00:02<00:00, 29.53it/s, loss=0.057, score=0.982]\n",
      "Epoch 90: 100%|██████████| 70/70 [00:02<00:00, 29.15it/s, loss=0.059, score=0.983]\n",
      "Epoch 91: 100%|██████████| 70/70 [00:02<00:00, 29.23it/s, loss=0.056, score=0.987]\n",
      "Epoch 92: 100%|██████████| 70/70 [00:02<00:00, 29.66it/s, loss=0.066, score=0.982]\n",
      "Epoch 93: 100%|██████████| 70/70 [00:02<00:00, 28.92it/s, loss=0.057, score=0.982]\n",
      "Epoch 94: 100%|██████████| 70/70 [00:02<00:00, 29.27it/s, loss=0.059, score=0.985]\n",
      "Epoch 95: 100%|██████████| 70/70 [00:02<00:00, 29.85it/s, loss=0.054, score=0.984]\n",
      "Epoch 96: 100%|██████████| 70/70 [00:02<00:00, 29.49it/s, loss=0.056, score=0.984]\n",
      "Epoch 97: 100%|██████████| 70/70 [00:02<00:00, 30.44it/s, loss=0.080, score=0.978]\n"
     ]
    },
    {
     "name": "stderr",
     "output_type": "stream",
     "text": [
      "Epoch 98: 100%|██████████| 70/70 [00:02<00:00, 30.70it/s, loss=0.060, score=0.984]\n",
      "Epoch 99: 100%|██████████| 70/70 [00:02<00:00, 30.06it/s, loss=0.061, score=0.986]\n"
     ]
    }
   ],
   "source": [
    "# get_user_inputs()\n",
    "dataset, image_type, eps, delta, width = get_user_inputs()\n",
    "\n",
    "# create_trainer()\n",
    "batch_size = 16\n",
    "num_class, trainer = create_trainer(dataset=dataset, image_type=image_type, multi_dimension=True, batch_size=batch_size, \n",
    "                                    width=width, eps=eps, delta=delta)\n",
    "\n",
    "# train_the_model()\n",
    "epochs = 100\n",
    "checkpoint = train_the_model(trainer, dataset, image_type, epochs, width, multi_dimension=True)\n",
    "\n",
    "# test_the_model()\n",
    "test_the_model(trainer, num_class, checkpoint)"
   ]
  },
  {
   "cell_type": "code",
   "execution_count": null,
   "id": "594ce95e",
   "metadata": {},
   "outputs": [],
   "source": []
  }
 ],
 "metadata": {
  "kernelspec": {
   "display_name": "Python 3",
   "language": "python",
   "name": "python3"
  },
  "language_info": {
   "codemirror_mode": {
    "name": "ipython",
    "version": 3
   },
   "file_extension": ".py",
   "mimetype": "text/x-python",
   "name": "python",
   "nbconvert_exporter": "python",
   "pygments_lexer": "ipython3",
   "version": "3.8.8"
  }
 },
 "nbformat": 4,
 "nbformat_minor": 5
}
