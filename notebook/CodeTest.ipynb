{
 "cells": [
  {
   "cell_type": "code",
   "execution_count": 8,
   "id": "5aefa20b",
   "metadata": {},
   "outputs": [],
   "source": [
    "import sys\n",
    "sys.path.append('../src/')\n",
    "from sklearn.preprocessing import LabelEncoder\n",
    "from sklearn.model_selection import StratifiedKFold\n",
    "from dataset import *\n",
    "from get_feature import *"
   ]
  },
  {
   "cell_type": "markdown",
   "id": "67eaf8ba",
   "metadata": {},
   "source": [
    "## Test dataset.py"
   ]
  },
  {
   "cell_type": "code",
   "execution_count": 12,
   "id": "3a73b41f",
   "metadata": {},
   "outputs": [
    {
     "name": "stderr",
     "output_type": "stream",
     "text": [
      "\r",
      "0it [00:00, ?it/s]"
     ]
    },
    {
     "name": "stdout",
     "output_type": "stream",
     "text": [
      "Load lilac aggregated data from ../data/lilac/aggregated/\n"
     ]
    },
    {
     "name": "stderr",
     "output_type": "stream",
     "text": [
      "processed: 1324: : 1324it [08:17,  2.66it/s]"
     ]
    },
    {
     "name": "stdout",
     "output_type": "stream",
     "text": [
      "Load LILAC data successfully.\n"
     ]
    },
    {
     "name": "stderr",
     "output_type": "stream",
     "text": [
      "\n"
     ]
    }
   ],
   "source": [
    "dataset=\"lilac\"\n",
    "current, voltage, labels = get_data(submetered=False, data_type=dataset, isc=False)\n",
    "labels = get_correct_labels_lilac(labels)\n",
    "\n",
    "#perform label enconding\n",
    "le = LabelEncoder()\n",
    "le.fit(labels)\n",
    "y = le.transform(labels)\n",
    "\n",
    "skf = StratifiedKFold(n_splits=4,random_state=42,shuffle=True)\n",
    "train_index, test_index = next(skf.split(current, y))\n",
    "\n",
    "input_feature = generate_input_feature(current, voltage, image_type=\"adaptive\", width=30, multi_dimension=True)\n",
    "Xtrain, Xtest = input_feature[train_index], input_feature[test_index]\n",
    "ytrain, ytest = y[train_index], y[test_index]\n",
    "\n",
    "tra_loader, val_loader=get_loaders(Xtrain, Xtest, ytrain, ytest, batch_size=16)\n",
    "print(\"Load LILAC data successfully.\")"
   ]
  },
  {
   "cell_type": "code",
   "execution_count": null,
   "id": "e7feeea1",
   "metadata": {},
   "outputs": [],
   "source": []
  }
 ],
 "metadata": {
  "kernelspec": {
   "display_name": "Python 3",
   "language": "python",
   "name": "python3"
  },
  "language_info": {
   "codemirror_mode": {
    "name": "ipython",
    "version": 3
   },
   "file_extension": ".py",
   "mimetype": "text/x-python",
   "name": "python",
   "nbconvert_exporter": "python",
   "pygments_lexer": "ipython3",
   "version": "3.8.8"
  }
 },
 "nbformat": 4,
 "nbformat_minor": 5
}
